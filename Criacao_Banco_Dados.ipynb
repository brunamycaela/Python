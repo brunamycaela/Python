{
 "cells": [
  {
   "cell_type": "code",
   "execution_count": 1,
   "id": "dd18c2ac",
   "metadata": {},
   "outputs": [],
   "source": [
    "# lib para banco de dados \n",
    "import sqlite3"
   ]
  },
  {
   "cell_type": "code",
   "execution_count": 2,
   "id": "dc40c913",
   "metadata": {},
   "outputs": [],
   "source": [
    "# Criar o banco, no caso do banco não existir nessa pasta vai criar um banco.\n",
    "Conexao_Banco = sqlite3.connect('Banco_Dados_API.db') \n"
   ]
  },
  {
   "cell_type": "code",
   "execution_count": 3,
   "id": "889c1758",
   "metadata": {},
   "outputs": [],
   "source": [
    "# Apontar para o banco\n",
    "Cursor = Conexao_Banco.cursor()"
   ]
  },
  {
   "cell_type": "code",
   "execution_count": 4,
   "id": "84fba1d9",
   "metadata": {},
   "outputs": [
    {
     "data": {
      "text/plain": [
       "<sqlite3.Cursor at 0x197f782aa40>"
      ]
     },
     "execution_count": 4,
     "metadata": {},
     "output_type": "execute_result"
    }
   ],
   "source": [
    "# Query --> Criar uma tabela\n",
    "\n",
    "Query_Criar_Banco = '''\n",
    "\n",
    "CREATE TABLE log_API(\n",
    "    id INTEGER NOT NULL PRIMARY KEY AUTOINCREMENT,\n",
    "    Inputd TEXT,\n",
    "    Inicio TEXT,\n",
    "    Fim TEXT,\n",
    "    Processamneto TEXT\n",
    ")\n",
    "'''\n",
    "# Executando a Query\n",
    "Cursor.execute(Query_Criar_Banco)"
   ]
  },
  {
   "cell_type": "code",
   "execution_count": 5,
   "id": "57139b47",
   "metadata": {},
   "outputs": [
    {
     "data": {
      "text/plain": [
       "[]"
      ]
     },
     "execution_count": 5,
     "metadata": {},
     "output_type": "execute_result"
    }
   ],
   "source": [
    "# Query --> Consulta\n",
    "\n",
    "Query_Consulta = '''\n",
    "    SELECT * FROM Log_API\n",
    "'''\n",
    "\n",
    "# Executando a Query\n",
    "Cursor.execute( Query_Consulta).fetchall()"
   ]
  },
  {
   "cell_type": "code",
   "execution_count": 8,
   "id": "0240881f",
   "metadata": {},
   "outputs": [],
   "source": [
    "# Query --> Inserir informação\n",
    "\n",
    "Query_Inserir = '''\n",
    "    INSERT INTO Log_API(Inputd, Inicio, Fim, Processamneto )\n",
    "    VALUES\n",
    "    ('25;1;1;0;0;0;0;0;84', '01/01/2000 19:00:01','01/01/2000 19:00:02', '00:01')\n",
    "'''\n",
    "\n",
    "# Executando a Query\n",
    "Cursor.execute( Query_Inserir)\n",
    "# commit\n",
    "Conexao_Banco.commit()"
   ]
  },
  {
   "cell_type": "code",
   "execution_count": 9,
   "id": "f818508e",
   "metadata": {},
   "outputs": [
    {
     "data": {
      "text/plain": [
       "[(1,\n",
       "  '25;1;1;0;0;0;0;0;84',\n",
       "  '01/01/2000 19:00:01',\n",
       "  '01/01/2000 19:00:02',\n",
       "  '00:01'),\n",
       " (2,\n",
       "  '25;1;1;0;0;0;0;0;84',\n",
       "  '01/01/2000 19:00:01',\n",
       "  '01/01/2000 19:00:02',\n",
       "  '00:01')]"
      ]
     },
     "execution_count": 9,
     "metadata": {},
     "output_type": "execute_result"
    }
   ],
   "source": [
    "# Query --> Consulta\n",
    "\n",
    "Query_Consulta = '''\n",
    "    SELECT * FROM Log_API\n",
    "'''\n",
    "\n",
    "# Executando a Query\n",
    "Cursor.execute( Query_Consulta).fetchall()"
   ]
  },
  {
   "cell_type": "code",
   "execution_count": null,
   "id": "a35210e1",
   "metadata": {},
   "outputs": [],
   "source": []
  }
 ],
 "metadata": {
  "kernelspec": {
   "display_name": "Python 3 (ipykernel)",
   "language": "python",
   "name": "python3"
  },
  "language_info": {
   "codemirror_mode": {
    "name": "ipython",
    "version": 3
   },
   "file_extension": ".py",
   "mimetype": "text/x-python",
   "name": "python",
   "nbconvert_exporter": "python",
   "pygments_lexer": "ipython3",
   "version": "3.9.12"
  }
 },
 "nbformat": 4,
 "nbformat_minor": 5
}
